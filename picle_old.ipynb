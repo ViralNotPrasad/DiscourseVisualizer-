{
 "cells": [
  {
   "cell_type": "code",
   "execution_count": 1,
   "metadata": {},
   "outputs": [],
   "source": [
    "file1  = open(\"immigration_results_appends.txt\",\"r\")\n",
    "file2  = open(\"shooting_results_append.txt\",\"r\")\n",
    "file3  = open(\"android_results_append.txt\",\"r\")\n",
    "file4  = open(\"abortion_results_append.txt\",\"r\")\n",
    "file5  = open(\"education_results_append.txt\",\"r\")\n",
    "# file6  = open(\"3_topics_labelled.txt\",\"w\")\n",
    "# .close()\n",
    "import pickle"
   ]
  },
  {
   "cell_type": "code",
   "execution_count": 2,
   "metadata": {},
   "outputs": [],
   "source": [
    "immi=[]\n",
    "shoot=[]\n",
    "android=[]\n",
    "abort=[]\n",
    "edu=[]"
   ]
  },
  {
   "cell_type": "code",
   "execution_count": 3,
   "metadata": {},
   "outputs": [
    {
     "name": "stdout",
     "output_type": "stream",
     "text": [
      "['1', \"It is morally acceptable to deport illegal immigrants regardless of the time they've been here\"]\n",
      "['2', 'Syrian refugees got their one chance and wasted it. Serious actions should be taken immediately.']\n",
      "['2', 'Digging a trench along the border would be better than building a wall.']\n",
      "['2', 'I feel that refugees would be more welcome as temporary visitors/wards of a host country as opposed to permanent new citizens.']\n",
      "['0', 'Europa should stop letting any refugees.']\n",
      "['4', 'In the global competition for skilled talent, Europe has fallen behind the competition due to issues of language, immigration policy and the inability of Europe to integrate Europeans.']\n",
      "['4', 'The FairTax would be a great solution to the illegal immigration problem.']\n",
      "['0', 'Asian-Americans will be better at raising their kids than their immigrant parents.']\n",
      "['5', 'The people who claim to be \"pro-life\" but are against things like welfare, helping refugees, or increasing education funds are misusing this label']\n",
      "['4', \"The logic behind banning Muslim immigrants doesn't make sense\"]\n",
      "['5', 'It would be logistically impossible for the United States to impose a Muslim immigrant ban and it would not be able to stop terrorist attacks.']\n",
      "['0', 'in regards to immigration, either illegals should be deported or we should have a system in place that gives more countries amnesty (like the US does for Cuba)']\n",
      "['4', 'Descendants of slaves being proud of being black is morally equivalent to other ethnic groups being proud of their Irish, Italian, Chinese, Mexican, Dominican etc. ancestry']\n",
      "['2', 'If current Latino immigration rates in the USA subsist, the US will worsen academically and our culture will not emphasize education in 2050 as much as it has in previous decades.']\n",
      "['1', \"I believe that continuous immigration combined with low fertility rates results in dilution and eventual loss of a country's native population\"]\n",
      "['2', 'I think Hispanic mass immigration has overall been a negative thing for the U.S.']\n",
      "['1', 'There is nothing morally wrong with building a wall to keep out potential illegal immigrants']\n",
      "['1', 'Federal and state governments in the US should stop producing documents in languages other than English because it allows immigrants to \"get by\" without learning English which leads to a lack of assimilation. (Which is a bad thing)']\n",
      "['0', \"Bernie Sanders' platform completely falls apart without harsher immigration laws.\"]\n",
      "['2', 'The major problem with buying drugs is that the user essentially is complicit in murder(if the drugs came across the border)']\n",
      "['4', 'Tabloids and Facebook-shares of unverified \"news\" are dumbing down our society and are directly responsible for an unreasonable fear of- and hatred towards refugees']\n",
      "['1', \"We shouldn't accept the refugees we'd deem capable for our own forced enlistment policies.\"]\n",
      "['1', \"It would be better if all the sexual assailants on New Years in Germany were refugees and migrants because then it wouldn't be seen as a racial issue, but merely a cultural one.\"]\n",
      "['5', 'I think illegal immigration in Los Angeles does not increase rent prices in better neighborhoods even if apartments are limited because it only affects poor neighborhoods']\n",
      "['1', 'No country should accept immigrants']\n",
      "['4', 'The United States should accept Syrian refugees for humanitarian and moral reasons, and despite opposing views, it can be done at little risk to Americans.']\n",
      "['4', 'America should let Syrian Refugees in to help them get away from war.']\n",
      "['1', 'Western countries accepting Syrian refugees is bad for the long-term stability/health of the region they are fleeing from. Not for the Western countries accepting them.']\n",
      "['2', 'Western countries should only take in women, children, and elder refugees from Syria']\n",
      "['4', 'The existence of homeless veterans is not a reason to deny refugees']\n",
      "['0', 'I see nothing bad with prioritising what kind of refugees we take in from war torn countries.']\n",
      "['2', 'Canada should not let the refugees in.']\n",
      "['1', '- The demonstrated potential for fifth column attacks against their adopted countries make Muslim immigrants the bogeyman that nativists have been fearing and preaching against.']\n",
      "['4', 'Deporting every illegal Mexican alien is implausible, idiotic, intolerant, and inconsiderate.']\n",
      "['0', 'Should if ever happen in the future and it has \"majority\" support from the local population, I will support mexican parts of the Southern US in seceding and joining Mexico.']\n",
      "['2', \"Intellectual diversity has made western society great but racial diversity has made western society more violent, weaker and culturally fragmented. For this reason voluminous immigration is not a solution to US/Europe's woes.\"]\n",
      "['5', 'The UK has a moral obligation to take more refugee.']\n",
      "['0', 'there is no \"refugee crisis\" in northwestern Europe']\n",
      "['0', \"Immigration is okay, as long as the immigrants don't have values that place citizens of your country at risk (i.e. come from a culture that is homophobic, transphobic, racist, etc.)\"]\n",
      "['0', 'As much as refugees are a big issue, in Syria and the surrounding areas, military intervention is equally crucial.']\n",
      "['2', 'The United States is unfairly judged for wanting to stop illegal immigration, when the rest of the world is doing the same thing.']\n",
      "['-1', 'I believe European countries should only take in female refugees']\n",
      "['-1', 'The narrative for Black and Hispanic Americans struggles in this country are bogus based on the success of Poor Asian Immigrants.']\n",
      "['1', \"(too much) Immigration hurts a country's culture\"]\n",
      "['2', \"I'm a Liberal and I think illegal immigration is actually a problem.\"]\n",
      "['4', 'I believe that who blames immigrants for stealing jobs or women or the like is not so educated in politics or society problems.']\n",
      "['-2', \"The bigger argument against legalizing illegal immigrants is not because we don't want them in the country, but because we would be losing a lower class, lower paid work force.\"]\n",
      "['-2', \"A 'points based immigration system' is a terrifyingly Orwellian concept.\"]\n",
      "['-2', \"I don't believe illegal immigrants in America deserve citizenship more than those who go through the legal process\"]\n",
      "['-2', \"If you're able, European and subscribe even loosely to European values, you should be on the Ukrainian border, driving back Russians\"]\n",
      "['-2', 'The refugee problem is the key to solving the Israeli-Arab conflict. Resettling the refugees in their current countries of residence should be the first step towards peace.']\n",
      "['-2', 'US Illegal immigrants are not citizens and therefore should not be allowed protection under the US constitution or bill of rights.']\n",
      "['-2', 'Because the borders of a majority of countries in the world are based on conquest and colonialism, natural grouping of self-organized groups is restricted, and tensions around this are making the world less peaceful. Therefore, all countries need to accept that borders are fluid and changeable.']\n",
      "['-2', 'I believe that non-white people have no place in Europe, and European society will be irreversibly changed with mass immigration.']\n",
      "['-2', 'The way many universities are treating rape/sexual assault is excessive, alarmist, and bordering on irresponsible.']\n",
      "['-2', 'The US / Canada border should be opened.']\n",
      "['-2', 'If all men are created equal, there is no reason to have immigration laws other than elitism.']\n",
      "['-2', \"Superman isn't a very effective illustration of assimilation by an immigrant at all. The Martian Manhunter J'onn J'onz is a far better example\"]\n",
      "['-2', \"I believe that the international community should just grant refugee status to anyone who wants it living in Israel/Palestine/gaza strip etc., and then shouldn't interfere further on either side of the conflict since neither side deserves the land.\"]\n",
      "['-2', 'I think the US should have more open borders']\n",
      "['-2', \"Western military forces should be in the middle east to improving human rights. A world police isn't bad. It's rational to be conceptually opposed to Islam and its increased immigration presence in the west because of the violent threat that Islamic ideology brings.\"]\n",
      "['-2', 'Countries should be able to change their borders by military force']\n",
      "['-2', 'Nations should allow immigration from regions they colonized in living memory.']\n",
      "['-2', \"I believe it's just to give more aid to an unemployed immigrant, than an employed citizen.\"]\n",
      "['-2', 'I believe restricted immigration is akin to Jim Crow and apartheid in that it bars people on the basis of where they were born.']\n",
      "['-2', 'I believe non citizens and illegal immigrants should be denied access to welfare benefits and social services.']\n",
      "['-2', 'The U.S. should adopt a policy of open borders. CMV.']\n",
      "['-2', 'I believe that (unconstitutional) border patrol is a legit measure against terrorist risk. US citizens are giving them too much flak. CMV.']\n",
      "['-2', \"I believe that muslim immigration is causing my country's culture to decay.\"]\n",
      "['-2', 'I think illegal immigrants should be given amnesty.']\n",
      "['-2', \"I feel the UK campaign of encouraging illegal immigrants to leave isn't racist/evil. CMV.\"]\n",
      "['-2', 'I believe any form of amnesty for illegal immigrants is slap in the face for those who followed the rules and the laws by immigrating legally.']\n",
      "['-2', 'I believe that illegal immigrants in the US should be granted amnesty. CMV.']\n",
      "['-2', 'I believe modern day immigration laws are a chief cause of economic inequality and should be abolished or radically changed.']\n",
      "['-2', 'I believe the United States should take immediate measures to secure the Mexican border. CMV.']\n",
      "['-2', \"I don't believe illegal immigrants should receive services from the US.\"]\n",
      "['-2', '- I believe that we should allow an unlimited number of immigrants to come in from Mexico.']\n",
      "['-2', 'The \"Brain Drain\" of Immigrants is Helping This Country (The United States) More Than It\\'s Hurting It']\n",
      "['-2', 'I believe the idea of borders (countries, provinces, etc.) are a remnant of older times that society should have risen above by now.']\n",
      "['-2', 'I believe immigration from countries with high fertility rates to countries with lower fertility rates represents a form of genocide.']\n",
      "['-2', 'I believe that any immigration policy other than open borders is downright immoral.']\n",
      "['']\n"
     ]
    }
   ],
   "source": [
    "while True :\n",
    "    line = file1.readline()\n",
    "    if (\"\" != line):\n",
    "        line = file1.readline().strip().split('\\t')\n",
    "#         print(line)\n",
    "        immi.append(line[0])\n",
    "    else:\n",
    "        break\n",
    "        \n",
    "while True :\n",
    "    line = file2.readline()\n",
    "    if (\"\" != line):\n",
    "        line = file2.readline().strip().split('\\t')\n",
    "        shoot.append(line[0])\n",
    "    else:\n",
    "        break\n",
    "        \n",
    "while True :\n",
    "    line = file3.readline()\n",
    "    if (\"\" != line):\n",
    "        line = file3.readline().strip().split('\\t')\n",
    "        android.append(line[0])\n",
    "    else:\n",
    "        break\n",
    "        \n",
    "while True :\n",
    "    line = file4.readline()\n",
    "    if (\"\" != line):\n",
    "        line = file4.readline().strip().split('\\t')\n",
    "        abort.append(line[0])\n",
    "    else:\n",
    "        break\n",
    "\n",
    "while True :\n",
    "    line = file5.readline()\n",
    "    if (\"\" != line):\n",
    "        line = file5.readline().strip().split('\\t')\n",
    "        edu.append(line[0])\n",
    "    else:\n",
    "        break"
   ]
  },
  {
   "cell_type": "code",
   "execution_count": 4,
   "metadata": {
    "scrolled": true
   },
   "outputs": [
    {
     "name": "stdout",
     "output_type": "stream",
     "text": [
      "['1', '2', '2', '2', '0', '4', '4', '0', '5', '4', '5', '0', '4', '2', '1', '2', '1', '1', '0', '2', '4', '1', '1', '5', '1', '4', '4', '1', '2', '4', '0', '2', '1', '4', '0', '2', '5', '0', '0', '0', '2', '-1', '-1', '1', '2', '4', '-2', '-2', '-2', '-2', '-2', '-2', '-2', '-2', '-2', '-2', '-2', '-2', '-2', '-2', '-2', '-2', '-2', '-2', '-2', '-2', '-2', '-2', '-2', '-2', '-2', '-2', '-2', '-2', '-2', '-2', '-2', '-2', '-2', '-2', '-2', '']\n",
      "\n",
      "['4', '1', '0', '2', '0', '2', '5', '2', '2', '0', '4', '0', '0', '2', '4', '0', '5', '2', '5', '0', '2', '4', '1', '0', '0', '0', '0', '-2', '-2', '-2', '-2', '-2', '-2', '-2', '-2', '-2', '-2', '-2', '-2', '-2', '-2', '-2', '-2', '-2', '-2', '-2', '-2', '-2', '-2', '-2', '-2', '-2', '-2', '-2', '-2', '-2', '-2', '-2', '-2', '-2', '-2', '-2', '-2', '-2', '-2', '-2', '-2', '-2', '-2', '-2', '-2', '-2', '-2', '-2', '-2', '-2', '-2', '-2', '-2', '-2', '-2', '-2', '-2', '-2', '-2', '-2', '-2', '-2', '-2', '-2', '-2', '-2', '-2', '-2', '-2', '-2', '-2', '-2', '-2', '-2', '-2', '-2', '-2', '-2', '-2', '-2', '-2', '-2', '-2', '-2', '-2', '-2', '-2', '-2', '-2', '-2', '-2', '-2', '-2', '-2', '-2', '-2', '-2', '-2', '-2', '-2', '-2', '-2', '-2', '-2', '-2', '-2', '-2']\n",
      "\n",
      "['4', '2', '2', '5', '0', '4', '0', '0', '2', '4', '0', '4', '1', '2', '0', '4', '2', '4', '0', '0', '0', '0', '2', '0', '0', '0', '0', '0', '0', '5', '0', '0', '0', '0', '0', '2', '2', '0', '0', '0', '1', '5', '0', '0', '4', '0', '0', '0', '0', '0', '4', '0', '0', '4', '4', '4', '0', '0', '2', '0', '4', '0', '0', '0', '4', '']\n",
      "\n",
      "['0', '0', '0', '-1', '4', '2', '0', '0', '-1', '2', '2', '2', '4', '3', '-1', '4', '4', '2', '-1', '3', '2', '2', '-2', '-2', '-2', '-2', '-2', '-2', '-2', '-2', '-2', '-2', '-2', '-2', '-2', '-2', '-2', '-2', '-2', '-2', '-2', '-2', '-2', '-2', '-2', '-2', '-2', '-2', '-2', '-2', '-2', '-2', '-2', '-2', '-2', '-2', '-2', '-2', '-2', '-2', '-2', '-2', '-2', '-2', '-2', '-2', '-2', '-2', '-2', '-2', '-2', '-2', '-2', '-2', '-2', '-2', '-2', '-2', '-2', '-2', '-2', '-2', '-2', '-2', '-2', '-2', '-2', '-2', '-2', '-2', '-2', '-2', '-2', '-2', '-2', '-2', '-2', '-2', '-2', '-2', '-2', '-2', '-2', '-2', '-2', '-2', '-2', '-2', '-2', '-2', '-2', '-2', '-2', '-2', '-2', '-2', '-2', '-2', '-2', '-2', '-2', '-2', '-2', '-2', '-2', '-2', '-2', '-2', '-2', '-2', '-2', '-2', '-2', '-2', '-2', '-2', '-2', '-2', '-2', '-2', '']\n",
      "\n",
      "['2', '0', '0', '2', '4', '2', '0', '0', '2', '5', '2', '-2', '-2', '2', '-2', '-2', '-2', '-2', '-2', '4', '-2', '-2', '-2', '-2', '-2', '-2', '-2', '-2', '-2', '-2', '-2', '-2', '-2', '-2', '5', '-2', '4', '-2', '-2', '-2', '4', '-2', '-2', '-2', '-2', '-2', '3', '-2', '-2', '-2', '-2', '-2', '-2', '-2', '-2', '-2', '-2', '-2', '-2', '-2', '-2', '-2', '-2', '-2', '-2', '-2', '-2', '-2', '4', '-2', '-2', '-2', '-2', '-2', '-2', '-2', '-2', '-2', '-2', '-2', '-2', '-2', '-2', '-2', '-2', '-2', '-2', '-2', '-2', '-2', '-2', '-2', '-2', '-2', '-2', '-2', '-2', '-2', '-2', '-2', '-2', '-2', '-2', '-2', '-2', '-2', '-2', '-2', '-2', '-2', '-2', '-2', '-2', '-2', '-2', '-2', '-2', '-2', '-2', '-2', '-2', '-2', '-2', '-2', '-2', '-2', '-2', '-2', '-2', '-2', '-2', '-2', '-2', '-2', '-2', '-2', '-2', '-2', '-2', '-2', '-2', '-2', '-2', '-2', '-2', '-2', '-2', '-2', '-2', '-2', '-2', '-2', '-2', '-2', '-2', '-2', '-2', '-2', '-2', '-2', '-2', '-2', '-2', '-2', '-2', '-2', '-2', '-2', '-2', '-2', '-2', '-2', '-2', '-2', '-2', '-2', '-2', '-2', '-2', '-2', '-2', '-2', '-2', '-2', '-2', '-2', '-2', '-2', '-2', '-2', '-2', '-2', '-2', '-2', '-2', '-2', '-2', '-2', '-2', '-2', '-2', '-2', '-2', '-2', '-2', '-2', '-2', '-2', '-2', '-2', '-2', '-2', '-2', '-2', '-2', '-2', '-2', '-2', '-2', '-2', '-2', '-2', '-2', '-2', '-2', '-2', '-2', '-2', '-2', '-2', '-2', '-2', '-2', '-2', '-2', '-2', '-2', '-2', '-2', '-2', '-2', '-2', '-2', '-2', '-2', '-2', '-2', '-2', '-2', '-2', '-2', '-2', '-2', '-2', '-2', '-2', '-2', '-2', '-2', '-2', '-2', '-2', '-2', '-2', '-2', '-2', '-2', '-2', '-2', '-2', '-2', '-2', '-2', '-2', '-2', '-2', '-2', '-2', '-2', '-2', '-2', '-2', '-2', '-2', '-2', '-2', '-2', '-2', '-2', '-2', '-2', '-2', '-2', '-2', '-2', '-2', '-2', '-2', '-2', '-2', '-2', '-2', '-2', '-2', '-2', '-2', '-2', '-2', '-2', '-2', '-2', '-2', '-2', '-2', '-2', '']\n"
     ]
    }
   ],
   "source": [
    "print(immi)\n",
    "print()\n",
    "print(shoot)\n",
    "print()\n",
    "print(android)\n",
    "print()\n",
    "print(abort)\n",
    "print()\n",
    "print(edu)"
   ]
  },
  {
   "cell_type": "code",
   "execution_count": 5,
   "metadata": {},
   "outputs": [],
   "source": [
    "file1.close()\n",
    "file2.close()\n",
    "file3.close()\n",
    "file4.close()\n",
    "file5.close()"
   ]
  },
  {
   "cell_type": "code",
   "execution_count": 6,
   "metadata": {},
   "outputs": [],
   "source": [
    "labelled_data={\"immigration\":immi, \"android\":android, \"education\":edu, \"abortion\":abort, \"shooting\":shoot}"
   ]
  },
  {
   "cell_type": "code",
   "execution_count": 8,
   "metadata": {},
   "outputs": [],
   "source": [
    "pickle_out = open(\"labelled.pickle\",\"wb\")\n",
    "pickle.dump(labelled_data, pickle_out)\n",
    "pickle_out.close()"
   ]
  },
  {
   "cell_type": "code",
   "execution_count": 10,
   "metadata": {},
   "outputs": [
    {
     "name": "stdout",
     "output_type": "stream",
     "text": [
      "{'immigration': ['1', '2', '2', '2', '0', '4', '4', '0', '5', '4', '5', '0', '4', '2', '1', '2', '1', '1', '0', '2', '4', '1', '1', '5', '1', '4', '4', '1', '2', '4', '0', '2', '1', '4', '0', '2', '5', '0', '0', '0', '2', '-1', '-1', '1', '2', '4', '-2', '-2', '-2', '-2', '-2', '-2', '-2', '-2', '-2', '-2', '-2', '-2', '-2', '-2', '-2', '-2', '-2', '-2', '-2', '-2', '-2', '-2', '-2', '-2', '-2', '-2', '-2', '-2', '-2', '-2', '-2', '-2', '-2', '-2', '-2', ''], 'android': ['4', '2', '2', '5', '0', '4', '0', '0', '2', '4', '0', '4', '1', '2', '0', '4', '2', '4', '0', '0', '0', '0', '2', '0', '0', '0', '0', '0', '0', '5', '0', '0', '0', '0', '0', '2', '2', '0', '0', '0', '1', '5', '0', '0', '4', '0', '0', '0', '0', '0', '4', '0', '0', '4', '4', '4', '0', '0', '2', '0', '4', '0', '0', '0', '4', ''], 'education': ['2', '0', '0', '2', '4', '2', '0', '0', '2', '5', '2', '-2', '-2', '2', '-2', '-2', '-2', '-2', '-2', '4', '-2', '-2', '-2', '-2', '-2', '-2', '-2', '-2', '-2', '-2', '-2', '-2', '-2', '-2', '5', '-2', '4', '-2', '-2', '-2', '4', '-2', '-2', '-2', '-2', '-2', '3', '-2', '-2', '-2', '-2', '-2', '-2', '-2', '-2', '-2', '-2', '-2', '-2', '-2', '-2', '-2', '-2', '-2', '-2', '-2', '-2', '-2', '4', '-2', '-2', '-2', '-2', '-2', '-2', '-2', '-2', '-2', '-2', '-2', '-2', '-2', '-2', '-2', '-2', '-2', '-2', '-2', '-2', '-2', '-2', '-2', '-2', '-2', '-2', '-2', '-2', '-2', '-2', '-2', '-2', '-2', '-2', '-2', '-2', '-2', '-2', '-2', '-2', '-2', '-2', '-2', '-2', '-2', '-2', '-2', '-2', '-2', '-2', '-2', '-2', '-2', '-2', '-2', '-2', '-2', '-2', '-2', '-2', '-2', '-2', '-2', '-2', '-2', '-2', '-2', '-2', '-2', '-2', '-2', '-2', '-2', '-2', '-2', '-2', '-2', '-2', '-2', '-2', '-2', '-2', '-2', '-2', '-2', '-2', '-2', '-2', '-2', '-2', '-2', '-2', '-2', '-2', '-2', '-2', '-2', '-2', '-2', '-2', '-2', '-2', '-2', '-2', '-2', '-2', '-2', '-2', '-2', '-2', '-2', '-2', '-2', '-2', '-2', '-2', '-2', '-2', '-2', '-2', '-2', '-2', '-2', '-2', '-2', '-2', '-2', '-2', '-2', '-2', '-2', '-2', '-2', '-2', '-2', '-2', '-2', '-2', '-2', '-2', '-2', '-2', '-2', '-2', '-2', '-2', '-2', '-2', '-2', '-2', '-2', '-2', '-2', '-2', '-2', '-2', '-2', '-2', '-2', '-2', '-2', '-2', '-2', '-2', '-2', '-2', '-2', '-2', '-2', '-2', '-2', '-2', '-2', '-2', '-2', '-2', '-2', '-2', '-2', '-2', '-2', '-2', '-2', '-2', '-2', '-2', '-2', '-2', '-2', '-2', '-2', '-2', '-2', '-2', '-2', '-2', '-2', '-2', '-2', '-2', '-2', '-2', '-2', '-2', '-2', '-2', '-2', '-2', '-2', '-2', '-2', '-2', '-2', '-2', '-2', '-2', '-2', '-2', '-2', '-2', '-2', '-2', '-2', '-2', '-2', '-2', '-2', '-2', '-2', '-2', '-2', '-2', '-2', '-2', '-2', '-2', '-2', '-2', '-2', '-2', '-2', '-2', '-2', '-2', '-2', '-2', ''], 'abortion': ['0', '0', '0', '-1', '4', '2', '0', '0', '-1', '2', '2', '2', '4', '3', '-1', '4', '4', '2', '-1', '3', '2', '2', '-2', '-2', '-2', '-2', '-2', '-2', '-2', '-2', '-2', '-2', '-2', '-2', '-2', '-2', '-2', '-2', '-2', '-2', '-2', '-2', '-2', '-2', '-2', '-2', '-2', '-2', '-2', '-2', '-2', '-2', '-2', '-2', '-2', '-2', '-2', '-2', '-2', '-2', '-2', '-2', '-2', '-2', '-2', '-2', '-2', '-2', '-2', '-2', '-2', '-2', '-2', '-2', '-2', '-2', '-2', '-2', '-2', '-2', '-2', '-2', '-2', '-2', '-2', '-2', '-2', '-2', '-2', '-2', '-2', '-2', '-2', '-2', '-2', '-2', '-2', '-2', '-2', '-2', '-2', '-2', '-2', '-2', '-2', '-2', '-2', '-2', '-2', '-2', '-2', '-2', '-2', '-2', '-2', '-2', '-2', '-2', '-2', '-2', '-2', '-2', '-2', '-2', '-2', '-2', '-2', '-2', '-2', '-2', '-2', '-2', '-2', '-2', '-2', '-2', '-2', '-2', '-2', '-2', ''], 'shooting': ['4', '1', '0', '2', '0', '2', '5', '2', '2', '0', '4', '0', '0', '2', '4', '0', '5', '2', '5', '0', '2', '4', '1', '0', '0', '0', '0', '-2', '-2', '-2', '-2', '-2', '-2', '-2', '-2', '-2', '-2', '-2', '-2', '-2', '-2', '-2', '-2', '-2', '-2', '-2', '-2', '-2', '-2', '-2', '-2', '-2', '-2', '-2', '-2', '-2', '-2', '-2', '-2', '-2', '-2', '-2', '-2', '-2', '-2', '-2', '-2', '-2', '-2', '-2', '-2', '-2', '-2', '-2', '-2', '-2', '-2', '-2', '-2', '-2', '-2', '-2', '-2', '-2', '-2', '-2', '-2', '-2', '-2', '-2', '-2', '-2', '-2', '-2', '-2', '-2', '-2', '-2', '-2', '-2', '-2', '-2', '-2', '-2', '-2', '-2', '-2', '-2', '-2', '-2', '-2', '-2', '-2', '-2', '-2', '-2', '-2', '-2', '-2', '-2', '-2', '-2', '-2', '-2', '-2', '-2', '-2', '-2', '-2', '-2', '-2', '-2', '-2']}\n"
     ]
    }
   ],
   "source": [
    "pickle_in = open(\"labelled.pickle\",\"rb\")\n",
    "example_dict = pickle.load(pickle_in)\n",
    "print(example_dict)"
   ]
  },
  {
   "cell_type": "code",
   "execution_count": 181,
   "metadata": {},
   "outputs": [],
   "source": [
    "file6 = open(\"shooting_results.txt\",\"r\")\n",
    "file7 = open(\"shooting_results_append.txt\",\"w\")\n",
    "# immi=[]\n",
    "# .close()"
   ]
  },
  {
   "cell_type": "code",
   "execution_count": 182,
   "metadata": {},
   "outputs": [],
   "source": [
    "while True :\n",
    "    line = file6.readline()\n",
    "    if (\"\" != line):\n",
    "        txt= \"-2\\t\"\n",
    "        txt+=line\n",
    "#         //txt+=\"\\t\"\n",
    "#         txt+=line[4:len(line)]\n",
    "        #print(line)\n",
    "        file7.write(txt) \n",
    "        \n",
    "    else:\n",
    "        break"
   ]
  },
  {
   "cell_type": "code",
   "execution_count": 195,
   "metadata": {},
   "outputs": [
    {
     "ename": "NameError",
     "evalue": "name 'file6' is not defined",
     "output_type": "error",
     "traceback": [
      "\u001b[0;31m---------------------------------------------------------------------------\u001b[0m",
      "\u001b[0;31mNameError\u001b[0m                                 Traceback (most recent call last)",
      "\u001b[0;32m<ipython-input-195-b870a4242894>\u001b[0m in \u001b[0;36m<module>\u001b[0;34m()\u001b[0m\n\u001b[0;32m----> 1\u001b[0;31m \u001b[0mfile6\u001b[0m\u001b[0;34m.\u001b[0m\u001b[0mclose\u001b[0m\u001b[0;34m(\u001b[0m\u001b[0;34m)\u001b[0m\u001b[0;34m\u001b[0m\u001b[0m\n\u001b[0m\u001b[1;32m      2\u001b[0m \u001b[0mfile7\u001b[0m\u001b[0;34m.\u001b[0m\u001b[0mclose\u001b[0m\u001b[0;34m(\u001b[0m\u001b[0;34m)\u001b[0m\u001b[0;34m\u001b[0m\u001b[0m\n",
      "\u001b[0;31mNameError\u001b[0m: name 'file6' is not defined"
     ]
    }
   ],
   "source": [
    "file6.close()\n",
    "file7.close()"
   ]
  }
 ],
 "metadata": {
  "kernelspec": {
   "display_name": "Python 3",
   "language": "python",
   "name": "python3"
  },
  "language_info": {
   "codemirror_mode": {
    "name": "ipython",
    "version": 3
   },
   "file_extension": ".py",
   "mimetype": "text/x-python",
   "name": "python",
   "nbconvert_exporter": "python",
   "pygments_lexer": "ipython3",
   "version": "3.7.0"
  }
 },
 "nbformat": 4,
 "nbformat_minor": 2
}
