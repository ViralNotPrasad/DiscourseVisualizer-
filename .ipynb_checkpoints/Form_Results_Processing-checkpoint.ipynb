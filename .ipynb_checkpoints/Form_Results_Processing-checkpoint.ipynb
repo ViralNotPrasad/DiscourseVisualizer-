{
 "cells": [
  {
   "cell_type": "code",
   "execution_count": 1,
   "metadata": {},
   "outputs": [],
   "source": [
    "import pickle\n",
    "form_data = pickle.load( open( \"form_result.pickle\", \"rb\" ) )"
   ]
  },
  {
   "cell_type": "code",
   "execution_count": 2,
   "metadata": {
    "scrolled": true
   },
   "outputs": [
    {
     "name": "stdout",
     "output_type": "stream",
     "text": [
      "<class 'dict'>\n",
      "{'name': ['viraaap'], 'email': ['abc@gmail.com'], 'gender': ['option1'], 'immi1': ['option2'], 'gun1': ['option3'], 'abort1': ['option4'], 'immi2': ['option5'], 'edu1': ['option5'], 'android1': ['option2'], 'abort2': ['option3'], 'android2': ['option4'], 'gun2': ['option5'], 'edu2': ['option5'], 'abort3': ['option4'], 'android3': ['option2'], 'edu3': ['option4'], 'immi3': ['option4'], 'edu4': ['option2'], 'abort4': ['option1'], 'edu5': ['option3'], 'gun3': ['option4'], 'android4': ['option3'], 'immi4': ['option4'], 'gun4': ['option2']}\n"
     ]
    }
   ],
   "source": [
    "form_data=dict(form_data)\n",
    "form_data_list={k: v for k, v in form_data.items()}\n",
    "print(type(form_data_list))\n",
    "print(form_data_list)"
   ]
  },
  {
   "cell_type": "code",
   "execution_count": 3,
   "metadata": {},
   "outputs": [],
   "source": [
    "#HIGHER SCORE MEANS\n",
    "\n",
    "immi=0\n",
    "immi+=6-int(form_data_list['immi1'].pop()[6])\n",
    "immi+=6-int(form_data_list['immi2'].pop()[6])\n",
    "immi+=6-int(form_data_list['immi3'].pop()[6])\n",
    "immi+=6-int(form_data_list['immi4'].pop()[6])\n",
    "#ProImmmi\n",
    "\n",
    "gun=0\n",
    "gun+=6-int(form_data_list['gun1'].pop()[6])\n",
    "gun+=6-int(form_data_list['gun2'].pop()[6])\n",
    "gun+=int(form_data_list['gun3'].pop()[6])\n",
    "gun+=int(form_data_list['gun4'].pop()[6])\n",
    "#ProGunControl\n",
    "\n",
    "abort=0\n",
    "abort+=int(form_data_list['abort1'].pop()[6])\n",
    "abort+=6-int(form_data_list['abort2'].pop()[6])\n",
    "abort+=int(form_data_list['abort3'].pop()[6])\n",
    "abort+=6-int(form_data_list['abort4'].pop()[6])\n",
    "#ProAbortion\n",
    "\n",
    "andd=0\n",
    "andd+=int(form_data_list['android1'].pop()[6])\n",
    "andd+=6-int(form_data_list['android2'].pop()[6])\n",
    "andd+=int(form_data_list['android3'].pop()[6])\n",
    "andd+=6-int(form_data_list['android4'].pop()[6])\n",
    "#ProAndroid_AntiApple\n",
    "\n",
    "edu=0\n",
    "edu+=int(form_data_list['edu1'].pop()[6])\n",
    "edu+=int(form_data_list['edu2'].pop()[6])\n",
    "edu+=6-int(form_data_list['edu3'].pop()[6])\n",
    "edu+=int(form_data_list['edu4'].pop()[6])"
   ]
  },
  {
   "cell_type": "code",
   "execution_count": 4,
   "metadata": {},
   "outputs": [],
   "source": [
    "user_lean={\"immigration\": immi/4, \"shooting\": gun/4, \"abortion\": abort/4, \"immigration\": immi/4, \"shooting\": gun/4, \"android\": andd/4,\"education\": edu/4}"
   ]
  },
  {
   "cell_type": "code",
   "execution_count": 5,
   "metadata": {
    "scrolled": true
   },
   "outputs": [
    {
     "name": "stdout",
     "output_type": "stream",
     "text": [
      "{'immigration': 2, 'shooting': 2, 'abortion': 4, 'android': 2, 'education': 4}\n"
     ]
    }
   ],
   "source": [
    "print(user_lean)"
   ]
  },
  {
   "cell_type": "code",
   "execution_count": 8,
   "metadata": {},
   "outputs": [],
   "source": [
    "# PICKLE CODE IF U WANT\n",
    "fileObject = open(\"user_lean.pickle\",'wb') \n",
    "pickle.dump(user_lean,fileObject)   \n",
    "fileObject.close()"
   ]
  }
 ],
 "metadata": {
  "kernelspec": {
   "display_name": "Python 3",
   "language": "python",
   "name": "python3"
  },
  "language_info": {
   "codemirror_mode": {
    "name": "ipython",
    "version": 3
   },
   "file_extension": ".py",
   "mimetype": "text/x-python",
   "name": "python",
   "nbconvert_exporter": "python",
   "pygments_lexer": "ipython3",
   "version": "3.7.0"
  }
 },
 "nbformat": 4,
 "nbformat_minor": 2
}
