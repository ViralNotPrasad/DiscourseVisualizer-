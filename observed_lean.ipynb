{
 "cells": [
  {
   "cell_type": "code",
   "execution_count": 33,
   "metadata": {},
   "outputs": [],
   "source": [
    "#List Of Tuples\n",
    "lot = [('immigration',5,20,155),(\"education\",4,10,260),('immigration',4,17,750),(\"education\",2,19,700),('immigration',4,18,100)]"
   ]
  },
  {
   "cell_type": "code",
   "execution_count": 34,
   "metadata": {},
   "outputs": [
    {
     "name": "stdout",
     "output_type": "stream",
     "text": [
      "4\n",
      "0.038461538461538464\n",
      "2\n",
      "0.027142857142857142\n",
      "{'immigration': 4.389004149377593, 'shooting': 0, 'abortion': 0, 'education': 3.172529313232831, 'android': 0}\n"
     ]
    }
   ],
   "source": [
    "immil=[]\n",
    "shootl=[]\n",
    "andl=[]\n",
    "abl=[]\n",
    "edul=[]\n",
    "\n",
    "immia=[]\n",
    "shoota=[]\n",
    "anda=[]\n",
    "aba=[]\n",
    "edua=[]\n",
    "\n",
    "immiaa=0\n",
    "shootaa=0\n",
    "andaa=0\n",
    "abaa=0\n",
    "eduaa=0\n",
    "\n",
    "for x in lot:\n",
    "    if x[0]=='immigration':\n",
    "        immil.append(x[1])\n",
    "        la=x[2]/x[3]\n",
    "        immia.append(la)\n",
    "        immiaa+=la\n",
    "    elif x[0] == 'shooting':\n",
    "        shootl.append(x[1])\n",
    "        shoota.append(x[2]/x[3])\n",
    "        shootaa+=x[2]/x[3]\n",
    "    elif x[0] == 'education':\n",
    "        edul.append(x[1])\n",
    "        print(x[1])\n",
    "        la2=x[2]/x[3]\n",
    "        print(la2)\n",
    "        eduaa+=la2\n",
    "        edua.append(la2)\n",
    "    elif x[0] == 'android':\n",
    "        andl.append(x[1])\n",
    "        anda.append(x[2]/x[3])\n",
    "        andaa+=x[2]/x[3]\n",
    "    elif x[0] == 'abortion':\n",
    "        abl.append(x[1])\n",
    "        aba.append(x[2]/x[3])\n",
    "        abaa+=x[2]/x[3]\n",
    "\n",
    "observed_lean={}\n",
    "\n",
    "summ=0\n",
    "for x,y in zip(immia,immil):\n",
    "    summ+=y*(x/immiaa)\n",
    "observed_lean['immigration']=summ\n",
    "\n",
    "summ=0\n",
    "for x,y in zip(shoota,shootl):\n",
    "    summ+=y*(x/shootaa)\n",
    "observed_lean['shooting']=summ\n",
    "\n",
    "summ=0\n",
    "for x,y in zip(aba,abl):\n",
    "    summ+=y*(x/abaa)\n",
    "observed_lean['abortion']=summ\n",
    "    \n",
    "summ=0\n",
    "for x,y in zip(edua,edul):\n",
    "    summ+=y*(x/eduaa)\n",
    "observed_lean['education']=summ\n",
    "    \n",
    "summ=0\n",
    "for x,y in zip(anda,andl):\n",
    "    summ+=y*(x/andaa)\n",
    "observed_lean['android']=summ\n",
    "                  \n",
    "print(observed_lean)"
   ]
  }
 ],
 "metadata": {
  "kernelspec": {
   "display_name": "Python 3",
   "language": "python",
   "name": "python3"
  },
  "language_info": {
   "codemirror_mode": {
    "name": "ipython",
    "version": 3
   },
   "file_extension": ".py",
   "mimetype": "text/x-python",
   "name": "python",
   "nbconvert_exporter": "python",
   "pygments_lexer": "ipython3",
   "version": "3.7.0"
  }
 },
 "nbformat": 4,
 "nbformat_minor": 2
}
