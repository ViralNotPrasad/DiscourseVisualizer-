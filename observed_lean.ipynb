{
 "cells": [
  {
   "cell_type": "code",
   "execution_count": 14,
   "metadata": {},
   "outputs": [],
   "source": [
    "#List Of Tuples\n",
    "lot = [('immigration',5,20),(\"education\",4,10),('immigration',4,17),(\"education\",2,19),('immigration',4,18)]"
   ]
  },
  {
   "cell_type": "code",
   "execution_count": 15,
   "metadata": {},
   "outputs": [],
   "source": [
    "import pickle\n",
    "form_data = pickle.load( open( \"user_lean.pickle\", \"rb\" ) )"
   ]
  },
  {
   "cell_type": "code",
   "execution_count": 16,
   "metadata": {
    "scrolled": true
   },
   "outputs": [
    {
     "name": "stdout",
     "output_type": "stream",
     "text": [
      "{'immigration': 2, 'shooting': 2, 'abortion': 4, 'android': 2, 'education': 4}\n"
     ]
    }
   ],
   "source": [
    "print(form_data)"
   ]
  },
  {
   "cell_type": "code",
   "execution_count": 27,
   "metadata": {},
   "outputs": [],
   "source": [
    "immi=0\n",
    "gun=0\n",
    "abort=0\n",
    "edu=0\n",
    "andd=0\n",
    "\n",
    "immi_c=0\n",
    "gun_c=0\n",
    "abort_c=0\n",
    "edu_c=0\n",
    "andd_c=0\n",
    "\n",
    "for x in lot:\n",
    "    if x[0] == 'immigration':\n",
    "        immi+=(x[1]-3)*x[2]\n",
    "        immi_c+=1\n",
    "    elif x[0] == 'shooting':\n",
    "        gun+=(x[1]-3)*x[2]\n",
    "        gun_c+=1\n",
    "    elif x[0] == 'education':\n",
    "        edu+=(x[1]-3)*x[2]\n",
    "        edu_c+=1\n",
    "    elif x[0] == 'android':\n",
    "        andd+=(x[1]-3)*x[2]\n",
    "        andd_c+=1\n",
    "    elif x[0] == 'abortion':\n",
    "        abort+=(x[1]-3)*x[2]\n",
    "        abort_c+=1\n",
    "        \n",
    "if immi_c==0:\n",
    "    immi_c+=1\n",
    "if edu_c==0:\n",
    "    edu_c+=1\n",
    "if abort_c==0:\n",
    "    abort_c+=1\n",
    "if gun==0:\n",
    "    gun_c+=1\n",
    "if andd_c==0:\n",
    "    andd_c+=1\n",
    "    \n",
    "obs_delta_lean = {\"immigration\":int(round(immi+3/immi_c)), \"android\":int(round(andd+3/andd_c)), \"education\":int(round(edu+3/edu_c)), \"abortion\":int(round(abort+3/abort_c)), \"shooting\":int(round(gun+3/gun_c))}"
   ]
  },
  {
   "cell_type": "code",
   "execution_count": 28,
   "metadata": {},
   "outputs": [
    {
     "name": "stdout",
     "output_type": "stream",
     "text": [
      "{'immigration': 76, 'android': 3, 'education': -8, 'abortion': 3, 'shooting': 3}\n"
     ]
    }
   ],
   "source": [
    "print(obs_delta_lean)"
   ]
  }
 ],
 "metadata": {
  "kernelspec": {
   "display_name": "Python 3",
   "language": "python",
   "name": "python3"
  },
  "language_info": {
   "codemirror_mode": {
    "name": "ipython",
    "version": 3
   },
   "file_extension": ".py",
   "mimetype": "text/x-python",
   "name": "python",
   "nbconvert_exporter": "python",
   "pygments_lexer": "ipython3",
   "version": "3.7.0"
  }
 },
 "nbformat": 4,
 "nbformat_minor": 2
}
