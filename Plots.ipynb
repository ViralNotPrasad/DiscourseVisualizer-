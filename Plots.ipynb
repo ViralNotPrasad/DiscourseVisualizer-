{
 "cells": [
  {
   "cell_type": "code",
   "execution_count": 8,
   "metadata": {},
   "outputs": [],
   "source": [
    "immi=[]\n",
    "shoot=[]\n",
    "android=[]\n",
    "abort=[]\n",
    "edu=[]\n",
    "import pickle"
   ]
  },
  {
   "cell_type": "code",
   "execution_count": 248,
   "metadata": {},
   "outputs": [],
   "source": [
    "import matplotlib.pyplot as plt"
   ]
  },
  {
   "cell_type": "code",
   "execution_count": 9,
   "metadata": {},
   "outputs": [],
   "source": [
    "lines = []\n",
    "with open(\"immigration_results_appends.txt\",\"r\") as f:\n",
    "    lines = [line.strip() for line in f]\n",
    "    f.close()"
   ]
  },
  {
   "cell_type": "code",
   "execution_count": 10,
   "metadata": {},
   "outputs": [
    {
     "name": "stdout",
     "output_type": "stream",
     "text": [
      "[4, 1, 2, 5, 2, 5, 2, 4, 2, 4, 4, 1, 5, 5, 2, 4, 1, 5, 5, 4, 4, 2, 2, 1, 1, 2, 1, 1, 1, 1, 1, 2, 2, 4, 1, 1, 1, 1, 4, 5, 1, 1, 1, 4, 1, 4, 1, 2, 1, 4, 1, 5, 2, 4, 1, 1, 4, 4, 4, 2, 2, 5, 4, 1, 4, 2, 2, 5, 1, 1, 2, 1, 4]\n"
     ]
    }
   ],
   "source": [
    "count_pro_immi=0\n",
    "count_anti_immi=0\n",
    "for each_line in lines:\n",
    "    temp = each_line.split('\\t')\n",
    "    lean_int = int(temp[0])\n",
    "    if(lean_int<6 and lean_int>0):\n",
    "        immi.append(lean_int)\n",
    "        if(lean_int>3):\n",
    "            count_pro_immi+=1\n",
    "        else:\n",
    "            count_anti_immi+=1\n",
    "    \n",
    "print(immi)"
   ]
  },
  {
   "cell_type": "code",
   "execution_count": 11,
   "metadata": {},
   "outputs": [],
   "source": [
    "lines = []\n",
    "with open(\"shooting_results_append.txt\",\"r\") as f:\n",
    "    lines = [line.strip() for line in f]\n",
    "    f.close()"
   ]
  },
  {
   "cell_type": "code",
   "execution_count": 12,
   "metadata": {},
   "outputs": [
    {
     "name": "stdout",
     "output_type": "stream",
     "text": [
      "[4, 2, 1, 4, 2, 1, 2, 5, 5, 2, 4, 2, 1, 4, 5, 2, 4, 2, 5, 2, 2, 5, 5, 2, 5, 4, 4, 1, 5, 5, 2, 2]\n"
     ]
    }
   ],
   "source": [
    "count_anti_shoot=0\n",
    "count_pro_shoot=0\n",
    "for each_line in lines:\n",
    "    temp = each_line.split('\\t')\n",
    "    lean_int = int(temp[0])\n",
    "    if(lean_int<6 and lean_int>0):\n",
    "        shoot.append(lean_int)\n",
    "        if(lean_int>3):\n",
    "            count_pro_shoot+=1\n",
    "        else:\n",
    "            count_anti_shoot+=1\n",
    "    \n",
    "print(shoot)"
   ]
  },
  {
   "cell_type": "code",
   "execution_count": 13,
   "metadata": {},
   "outputs": [],
   "source": [
    "lines = []\n",
    "with open(\"android_results_append.txt\",\"r\") as f:\n",
    "    lines = [line.strip() for line in f]\n",
    "    f.close()"
   ]
  },
  {
   "cell_type": "code",
   "execution_count": 14,
   "metadata": {},
   "outputs": [
    {
     "name": "stdout",
     "output_type": "stream",
     "text": [
      "[4, 4, 4, 2, 1, 2, 5, 4, 2, 4, 4, 4, 1, 2, 4, 2, 4, 4, 2, 2, 5, 5, 2, 2, 2, 1, 5, 1, 4, 1, 4, 3, 4, 4, 4, 4, 4, 2, 4, 1, 2, 4, 4]\n"
     ]
    }
   ],
   "source": [
    "count_anti_and=0\n",
    "count_pro_and=0\n",
    "for each_line in lines:\n",
    "    temp = each_line.split('\\t')\n",
    "    lean_int = int(temp[0])\n",
    "    if(lean_int<6 and lean_int>0):\n",
    "        android.append(lean_int)\n",
    "        if(lean_int>3):\n",
    "            count_pro_and+=1\n",
    "        else:\n",
    "            count_anti_and+=1\n",
    "    \n",
    "print(android)"
   ]
  },
  {
   "cell_type": "code",
   "execution_count": 15,
   "metadata": {},
   "outputs": [],
   "source": [
    "lines = []\n",
    "with open(\"abortion_results_append.txt\",\"r\") as f:\n",
    "    lines = [line.strip() for line in f]\n",
    "    f.close()"
   ]
  },
  {
   "cell_type": "code",
   "execution_count": 16,
   "metadata": {},
   "outputs": [
    {
     "name": "stdout",
     "output_type": "stream",
     "text": [
      "[5, 4, 2, 2, 2, 4, 2, 2, 4, 2, 2, 2, 5, 2, 3, 4, 5, 3, 4, 4, 4, 2, 1, 5, 3, 4, 2, 2, 2]\n"
     ]
    }
   ],
   "source": [
    "count_anti_ab=0\n",
    "count_pro_ab=0\n",
    "for each_line in lines:\n",
    "    temp = each_line.split('\\t')\n",
    "    lean_int = int(temp[0])\n",
    "    if(lean_int<6 and lean_int>0):\n",
    "        abort.append(lean_int)\n",
    "        if(lean_int>3):\n",
    "            count_pro_ab+=1\n",
    "        else:\n",
    "            count_anti_ab+=1\n",
    "    \n",
    "print(abort)"
   ]
  },
  {
   "cell_type": "code",
   "execution_count": 17,
   "metadata": {},
   "outputs": [],
   "source": [
    "lines = []\n",
    "with open(\"education_results_append.txt\",\"r\") as f:\n",
    "    lines = [line.strip() for line in f]\n",
    "    f.close()"
   ]
  },
  {
   "cell_type": "code",
   "execution_count": 18,
   "metadata": {},
   "outputs": [
    {
     "name": "stdout",
     "output_type": "stream",
     "text": [
      "[2, 2, 4, 2, 2, 4, 2, 4, 4, 4, 2, 4, 5, 2, 2, 4, 4, 4, 5, 4, 4, 4, 4, 4, 4, 3, 5, 4, 4]\n"
     ]
    }
   ],
   "source": [
    "count_anti_edu=0\n",
    "count_pro_edu=0\n",
    "for each_line in lines:\n",
    "    temp = each_line.split('\\t')\n",
    "    lean_int = int(temp[0])\n",
    "    if(lean_int<6 and lean_int>0):\n",
    "        edu.append(lean_int)\n",
    "        if(lean_int>3):\n",
    "            count_pro_edu+=1\n",
    "        else:\n",
    "            count_anti_edu+=1\n",
    "    \n",
    "print(edu)"
   ]
  },
  {
   "cell_type": "code",
   "execution_count": 19,
   "metadata": {
    "scrolled": true
   },
   "outputs": [
    {
     "data": {
      "image/png": "[encoded data removed]",
      "text/plain": [
       "<Figure size 576x1152 with 1 Axes>"
      ]
     },
     "metadata": {
      "needs_background": "light"
     },
     "output_type": "display_data"
    }
   ],
   "source": [
    "import matplotlib.pyplot as plt\n",
    "%matplotlib inline\n",
    "plt.figure(figsize=(8,16))\n",
    "import numpy as np\n",
    "\n",
    "label = ['Immigration_Pro', 'Immigration_Anti', 'Shooting_Pro', 'Shooting_Anti', 'Android', 'Apple', 'Abortion_Pro', 'Abortion_Anti', 'Education_Pro', 'Education_Anti'] \n",
    "lean_data=[count_pro_immi, count_anti_immi, count_pro_shoot, count_anti_shoot, count_pro_and, count_anti_and, count_pro_ab, count_anti_ab, count_pro_edu, count_anti_edu]\n",
    "index = np.arange(len(label))\n",
    "\n",
    "index = np.arange(len(label))\n",
    "barlist=plt.bar(index, lean_data, width=0.35)\n",
    "barlist[0].set_color('r')\n",
    "barlist[2].set_color('r')\n",
    "barlist[4].set_color('r')\n",
    "barlist[6].set_color('r')\n",
    "barlist[8].set_color('r')\n",
    "plt.xlabel('Topic')\n",
    "# , fontsize=5)\n",
    "plt.ylabel('Lean')\n",
    "# , fontsize=5)\n",
    "plt.xticks(index, label, rotation=30)\n",
    "plt.title('Lean Trends for topics')\n",
    "plt.show()"
   ]
  },
  {
   "cell_type": "code",
   "execution_count": 20,
   "metadata": {
    "scrolled": true
   },
   "outputs": [
    {
     "data": {
      "image/png": "[encoded data removed]",
      "text/plain": [
       "<Figure size 288x576 with 1 Axes>"
      ]
     },
     "metadata": {
      "needs_background": "light"
     },
     "output_type": "display_data"
    }
   ],
   "source": [
    "\n",
    "import matplotlib.pyplot as plt\n",
    "%matplotlib inline\n",
    "plt.figure(figsize=(4,8))\n",
    "import numpy as np\n",
    "\n",
    "label = ['Immigration_Pro', 'Immigration_Anti']\n",
    "lean_data=[count_pro_immi, count_anti_immi]\n",
    "index = np.arange(len(label))\n",
    "\n",
    "index = np.arange(len(label))\n",
    "barlist=plt.bar(index, lean_data, width=0.35)\n",
    "barlist[1].set_color('r')\n",
    "plt.xlabel('Topic')\n",
    "# , fontsize=5)\n",
    "plt.ylabel('Lean')\n",
    "# , fontsize=5)\n",
    "plt.xticks(index, label, rotation=30)\n",
    "plt.title('Lean Trends for topics')\n",
    "plt.show()\n"
   ]
  },
  {
   "cell_type": "code",
   "execution_count": 21,
   "metadata": {},
   "outputs": [
    {
     "data": {
      "image/png": "[encoded data removed]",
      "text/plain": [
       "<Figure size 288x576 with 1 Axes>"
      ]
     },
     "metadata": {
      "needs_background": "light"
     },
     "output_type": "display_data"
    }
   ],
   "source": [
    "\n",
    "import matplotlib.pyplot as plt\n",
    "%matplotlib inline\n",
    "plt.figure(figsize=(4,8))\n",
    "import numpy as np\n",
    "\n",
    "label = ['Shooting_Pro', 'Shooting_Anti']\n",
    "lean_data=[count_pro_shoot, count_anti_shoot]\n",
    "index = np.arange(len(label))\n",
    "\n",
    "index = np.arange(len(label))\n",
    "barlist=plt.bar(index, lean_data, width=0.35)\n",
    "barlist[1].set_color('r')\n",
    "plt.xlabel('Topic')\n",
    "# , fontsize=5)\n",
    "plt.ylabel('Lean')\n",
    "# , fontsize=5)\n",
    "plt.xticks(index, label, rotation=30)\n",
    "plt.title('Lean Trends for topics')\n",
    "plt.show()\n"
   ]
  },
  {
   "cell_type": "code",
   "execution_count": 22,
   "metadata": {},
   "outputs": [
    {
     "data": {
      "image/png": "[encoded data removed]",
      "text/plain": [
       "<Figure size 288x576 with 1 Axes>"
      ]
     },
     "metadata": {
      "needs_background": "light"
     },
     "output_type": "display_data"
    }
   ],
   "source": [
    "\n",
    "import matplotlib.pyplot as plt\n",
    "%matplotlib inline\n",
    "plt.figure(figsize=(4,8))\n",
    "import numpy as np\n",
    "\n",
    "label = ['Android', 'Apple']\n",
    "lean_data=[count_pro_and, count_anti_and]\n",
    "index = np.arange(len(label))\n",
    "\n",
    "index = np.arange(len(label))\n",
    "barlist=plt.bar(index, lean_data, width=0.35)\n",
    "barlist[0].set_color('r')\n",
    "plt.xlabel('Topic')\n",
    "# , fontsize=5)\n",
    "plt.ylabel('Lean')\n",
    "# , fontsize=5)\n",
    "plt.xticks(index, label, rotation=30)\n",
    "plt.title('Lean Trends for topics')\n",
    "plt.show()\n"
   ]
  },
  {
   "cell_type": "code",
   "execution_count": 23,
   "metadata": {},
   "outputs": [
    {
     "data": {
      "image/png": "[encoded data removed]",
      "text/plain": [
       "<Figure size 288x576 with 1 Axes>"
      ]
     },
     "metadata": {
      "needs_background": "light"
     },
     "output_type": "display_data"
    }
   ],
   "source": [
    "\n",
    "import matplotlib.pyplot as plt\n",
    "%matplotlib inline\n",
    "plt.figure(figsize=(4,8))\n",
    "import numpy as np\n",
    "\n",
    "label = ['Pro Abortion', 'Anti Abortion']\n",
    "lean_data=[count_pro_ab, count_anti_ab]\n",
    "index = np.arange(len(label))\n",
    "\n",
    "index = np.arange(len(label))\n",
    "barlist=plt.bar(index, lean_data, width=0.35)\n",
    "barlist[0].set_color('r')\n",
    "plt.xlabel('Topic')\n",
    "# , fontsize=5)\n",
    "plt.ylabel('Lean')\n",
    "# , fontsize=5)\n",
    "plt.xticks(index, label, rotation=30)\n",
    "plt.title('Lean Trends for topics')\n",
    "plt.show()\n"
   ]
  },
  {
   "cell_type": "code",
   "execution_count": 24,
   "metadata": {},
   "outputs": [
    {
     "data": {
      "image/png": "[encoded data removed]",
      "text/plain": [
       "<Figure size 288x576 with 1 Axes>"
      ]
     },
     "metadata": {
      "needs_background": "light"
     },
     "output_type": "display_data"
    }
   ],
   "source": [
    "\n",
    "import matplotlib.pyplot as plt\n",
    "%matplotlib inline\n",
    "plt.figure(figsize=(4,8))\n",
    "import numpy as np\n",
    "\n",
    "label = ['Pro Education', 'Anti Education']\n",
    "lean_data=[count_pro_edu, count_anti_edu]\n",
    "index = np.arange(len(label))\n",
    "\n",
    "index = np.arange(len(label))\n",
    "barlist=plt.bar(index, lean_data, width=0.35)\n",
    "barlist[0].set_color('r')\n",
    "plt.xlabel('Topic')\n",
    "# , fontsize=5)\n",
    "plt.ylabel('Lean')\n",
    "# , fontsize=5)\n",
    "plt.xticks(index, label, rotation=30)\n",
    "plt.title('Lean Trends for topics')\n",
    "plt.show()\n"
   ]
  },
  {
   "cell_type": "code",
   "execution_count": 198,
   "metadata": {},
   "outputs": [],
   "source": [
    "# labelled_data={\"immigration\":immi, \"android\":android, \"education\":edu, \"abortion\":abort, \"shooting\":shoot}"
   ]
  },
  {
   "cell_type": "code",
   "execution_count": 199,
   "metadata": {},
   "outputs": [],
   "source": [
    "# pickle_out = open(\"labelled.pickle\",\"wb\")\n",
    "# pickle.dump(labelled_data, pickle_out)\n",
    "# pickle_out.close()"
   ]
  },
  {
   "cell_type": "code",
   "execution_count": 200,
   "metadata": {},
   "outputs": [
    {
     "name": "stdout",
     "output_type": "stream",
     "text": [
      "{'immigration': [4, 1, 0, 2, 5, 2, 5, 2, 4, 0, 2, 4, 0, 4, 1, 0, 5, 5, 2, 4, 1, 5, 5, 0, 4, 4, 2, 2, 1, 1, 0, 2, 1, 1, 1, 1, 1, 0, 0, 2, 2, 4, 1, 1, 1, 1, 4, 5, 1, 1, 1, 4, 1, 4, 0, 1, 0, 2, 1, 4, 1, 0, 5, 2, 4, 1, 1, 4, 4, 0, 4, 2, 2, 5, 0, 0, 4, 0, 1, 0, 4, 2, 2, -1, -1, -1, 5, 1, 1, 2, 1, 4, 0, -2, -2, -2, -2, -2, -2, -2, -2, -2, -2, -2, -2, -2, -2, -2, -2, -2, -2, -2, -2, -2, -2, -2, -2, -2, -2, -2, -2, -2, -2, -2, -2, -2, -2, -2, -2, -2, -2, -2, -2, -2, -2, -2, -2, -2, -2, -2, -2, -2, -2, -2, -2, -2, -2, -2, -2, -2, -2, -2, -2, -2, -2, -2, -2, -2, -2, -2, -2, -2, -2], 'android': [4, 4, 4, 2, 1, 2, 0, 5, 0, 0, 0, 4, 0, 0, 0, 0, 0, 2, 4, 4, 0, 0, 0, 4, 0, 1, 0, 2, 0, 0, 0, 4, 0, 2, 0, 4, 4, 0, 0, 0, 0, 0, 0, 0, 0, 2, 0, 0, 2, 0, 0, 0, 0, 0, 0, 0, 0, 0, 5, 5, 0, 0, 0, 0, 0, 0, 0, 0, 0, 0, 0, 2, 0, 2, 0, 0, 2, 0, 0, 0, 0, 1, 0, 5, 1, 0, 0, 0, 0, 4, 0, 0, 0, 0, 1, 0, 0, 0, 0, 0, 0, 4, 0, 0, 3, 0, 0, 4, 0, 4, 0, 4, 0, 0, 4, 0, 4, 2, 0, 0, 0, 4, 0, 0, 0, 0, 1, 0, 2, 4, 4], 'education': [2, 2, 0, 0, 0, 0, 4, 2, 2, 4, 0, 2, 4, 0, 4, 0, 4, 2, 4, 5, -2, 2, -2, -2, -2, -2, -2, 2, 4, -2, -2, -2, -2, -2, -2, -2, -2, -2, 4, 4, -2, -2, -2, -2, -2, -2, -2, -2, -2, -2, -2, -2, -2, -2, -2, -2, -2, -2, -2, -2, -2, -2, -2, -2, -2, -2, -2, -2, -2, 5, -2, -2, -2, 4, 4, -2, -2, -2, -2, -2, 4, 4, 4, -2, -2, -2, -2, -2, -2, -2, 4, -2, -2, 3, -2, -2, -2, -2, -2, -2, -2, -2, -2, -2, -2, -2, -2, -2, -2, -2, -2, -2, -2, -2, -2, -2, -2, -2, -2, -2, -2, -2, -2, -2, -2, -2, -2, -2, -2, -2, -2, -2, -2, -2, -2, -2, 5, 4, -2, -2, -2, -2, -2, -2, -2, -2, -2, -2, -2, -2, -2, -2, -2, -2, -2, -2, -2, -2, -2, -2, -2, -2, -2, -2, 4, -2, -2, -2, -2, -2, -2, -2, -2, -2, -2, -2, -2, -2, -2, -2, -2, -2, -2, -2, -2, -2, -2, -2, -2, -2, -2, -2, -2, -2, -2, -2, -2, -2, -2, -2, -2, -2, -2, -2, -2, -2, -2, -2, -2, -2, -2, -2, -2, -2, -2, -2, -2, -2, -2, -2, -2, -2, -2, -2, -2, -2, -2, -2, -2, -2, -2, -2, -2, -2, -2, -2, -2, -2, -2, -2, -2, -2, -2, -2, -2, -2, -2, -2, -2, -2, -2, -2, -2, -2, -2, -2, -2, -2, -2, -2, -2, -2, -2, -2, -2, -2, -2, -2, -2, -2, -2, -2, -2, -2, -2, -2, -2, -2, -2, -2, -2, -2, -2, -2, -2, -2, -2, -2, -2, -2, -2, -2, -2, -2, -2, -2, -2, -2, -2, -2, -2, -2, -2, -2, -2, -2, -2, -2, -2, -2, -2, -2, -2, -2, -2, -2, -2, -2, -2, -2, -2, -2, -2, -2, -2, -2, -2, -2, -2, -2, -2, -2, -2, -2, -2, -2, -2, -2, -2, -2, -2, -2, -2, -2, -2, -2, -2, -2, -2, -2, -2, -2, -2, -2, -2, -2, -2, -2, -2, -2, -2, -2, -2, -2, -2, -2, -2, -2, -2, -2, -2, -2, -2, -2, -2, -2, -2, -2, -2, -2, -2, -2, -2, -2, -2, -2, -2, -2, -2, -2, -2, -2, -2, -2, -2, -2, -2, -2, -2, -2, -2, -2, -2, -2, -2, -2, -2, -2, -2, -2, -2, -2, -2, -2, -2, -2, -2, -2, -2, -2, -2, -2, -2, -2, -2, -2, -2, -2, -2, -2, -2, -2, -2, -2, -2, -2, -2, -2, -2, -2, -2, -2, -2, -2, -2, -2, -2, -2, -2, -2, -2, -2, -2, -2, -2, -2, -2, -2, -2, -2, -2, -2, -2, -2, -2, -2, -2, -2, -2, -2, -2, -2, -2, -2, -2, -2, -2, -2, -2, -2, -2, -2, -2, -2, -2, -2, -2, -2, -2, -2, -2, -2, -2, -2, -2, -2, -2, -2, -2, -2, -2, -2, -2, -2, -2, -2, -2, -2, -2, -2, -2, -2, -2, -2, -2, -2, -2, -2, -2, -2, -2, -2, -2, -2, -2, -2, -2, -2, -2, -2, -2, -2, -2, -2, -2, -2, -2, -2, -2, -2, -2, -2, -2, -2, -2, -2, -2, -2, -2, -2, -2, -2, -2, -2, -2, -2, -2, -2, -2, -2, -2, -2, -2, -2, -2, -2, -2, -2, -2, -2, -2, -2, -2, -2, -2, -2, -2, -2, -2, -2, -2, -2, -2, -2, -2, -2, -2, -2, -2, -2, -2, -2, -2, -2, -2, -2, -2, -2, -2, -2, -2, -2, -2, -2, -2, -2, -2, -2, -2, -2, -2, -2, -2, -2, -2, -2, -2, -2, -2, -2, -2, -2, -2, -2, -2, -2, -2, -2, -2, -2, -2], 'abortion': [5, 0, 4, 0, 2, 0, 2, -1, 2, 4, 0, 2, 2, 0, -1, 0, 4, -1, 0, 2, 2, 2, 5, 2, 3, 4, 5, 3, 4, -1, 0, 4, -1, 4, -1, 2, 1, -1, 5, 3, 4, 2, -1, 2, 2, -2, -2, -2, -2, -2, -2, -2, -2, -2, -2, -2, -2, -2, -2, -2, -2, -2, -2, -2, -2, -2, -2, -2, -2, -2, -2, -2, -2, -2, -2, -2, -2, -2, -2, -2, -2, -2, -2, -2, -2, -2, -2, -2, -2, -2, -2, -2, -2, -2, -2, -2, -2, -2, -2, -2, -2, -2, -2, -2, -2, -2, -2, -2, -2, -2, -2, -2, -2, -2, -2, -2, -2, -2, -2, -2, -2, -2, -2, -2, -2, -2, -2, -2, -2, -2, -2, -2, -2, -2, -2, -2, -2, -2, -2, -2, -2, -2, -2, -2, -2, -2, -2, -2, -2, -2, -2, -2, -2, -2, -2, -2, -2, -2, -2, -2, -2, -2, -2, -2, -2, -2, -2, -2, -2, -2, -2, -2, -2, -2, -2, -2, -2, -2, -2, -2, -2, -2, -2, -2, -2, -2, -2, -2, -2, -2, -2, -2, -2, -2, -2, -2, -2, -2, -2, -2, -2, -2, -2, -2, -2, -2, -2, -2, -2, -2, -2, -2, -2, -2, -2, -2, -2, -2, -2, -2, -2, -2, -2, -2, -2, -2, -2, -2, -2, -2, -2, -2, -2, -2, -2, -2, -2, -2, -2, -2, -2, -2, -2, -2, -2, -2, -2, -2, -2, -2, -2, -2, -2, -2, -2, -2, -2, -2, -2, -2, -2, -2, -2, -2, -2, -2, -2, -2, -2, -2, -2, -2, -2, -2, -2, -2, -2, -2, -2, -2, -2], 'shooting': [0, 4, 2, 1, 0, 0, 4, 2, 1, 0, 0, 2, 5, 5, 0, 2, 4, 2, 1, 0, 0, 4, 0, 0, 5, 0, 0, 2, 0, 4, 0, 0, 2, 5, 0, 2, 2, 5, 5, 0, 0, 2, 5, 4, 4, 1, 0, 0, 5, 0, 0, 0, 5, 0, 2, -2, 2, -2, -2, -2, -2, -2, -2, -2, -2, -2, -2, -2, -2, -2, -2, -2, -2, -2, -2, -2, -2, -2, -2, -2, -2, -2, -2, -2, -2, -2, -2, -2, -2, -2, -2, -2, -2, -2, -2, -2, -2, -2, -2, -2, -2, -2, -2, -2, -2, -2, -2, -2, -2, -2, -2, -2, -2, -2, -2, -2, -2, -2, -2, -2, -2, -2, -2, -2, -2, -2, -2, -2, -2, -2, -2, -2, -2, -2, -2, -2, -2, -2, -2, -2, -2, -2, -2, -2, -2, -2, -2, -2, -2, -2, -2, -2, -2, -2, -2, -2, -2, -2, -2, -2, -2, -2, -2, -2, -2, -2, -2, -2, -2, -2, -2, -2, -2, -2, -2, -2, -2, -2, -2, -2, -2, -2, -2, -2, -2, -2, -2, -2, -2, -2, -2, -2, -2, -2, -2, -2, -2, -2, -2, -2, -2, -2, -2, -2, -2, -2, -2, -2, -2, -2, -2, -2, -2, -2, -2, -2, -2, -2, -2, -2, -2, -2, -2, -2, -2, -2, -2, -2, -2, -2, -2, -2, -2, -2, -2, -2, -2, -2, -2, -2, -2, -2, -2, -2, -2, -2, -2, -2, -2, -2, -2, -2, -2, -2, -2, -2, -2, -2, -2, -2, -2, -2, -2, -2, -2, -2]}\n"
     ]
    }
   ],
   "source": [
    "# pickle_in = open(\"labelled.pickle\",\"rb\")\n",
    "# example_dict = pickle.load(pickle_in)\n",
    "# print(example_dict)"
   ]
  }
 ],
 "metadata": {
  "kernelspec": {
   "display_name": "Python 3",
   "language": "python",
   "name": "python3"
  },
  "language_info": {
   "codemirror_mode": {
    "name": "ipython",
    "version": 3
   },
   "file_extension": ".py",
   "mimetype": "text/x-python",
   "name": "python",
   "nbconvert_exporter": "python",
   "pygments_lexer": "ipython3",
   "version": "3.7.0"
  }
 },
 "nbformat": 4,
 "nbformat_minor": 2
}
