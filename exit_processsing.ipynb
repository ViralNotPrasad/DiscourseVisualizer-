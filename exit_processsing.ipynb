{
 "cells": [
  {
   "cell_type": "code",
   "execution_count": null,
   "metadata": {},
   "outputs": [],
   "source": [
    "# user_lean={'name':'dhruvaaas','immigration': 2.25, 'shooting': 2.5, 'abortion': 4.0, 'android': 2.25, 'education': 3.5}\n",
    "# observed_lean={:'immigration': 4.389004149377593, 'shooting': 0, 'abortion': 0, 'education': 3.172529313232831, 'android': 0}"
   ]
  },
  {
   "cell_type": "code",
   "execution_count": 10,
   "metadata": {},
   "outputs": [],
   "source": [
    "# import pandas as pd\n",
    "# ReadExcel = pd.read_excel ('exit.xlsx')\n",
    "# df = ReadExcel\n",
    "# df.columns = ['timestamp', 'email', 'name', 'age', 'gender', 'i1', 'e1', 'an1', 'ab1', 'i2','g1','ab2','an2','i3','an3','g2','e2','blah','ab3','an4','g3','e3','ab4','i4','e4','g4','e5']\n",
    "# exit=df.to_dict('records')\n",
    "# print(exit)"
   ]
  },
  {
   "cell_type": "code",
   "execution_count": null,
   "metadata": {},
   "outputs": [],
   "source": [
    "# import pickle\n",
    "# with open(\"dict_tup.pickle\",\"rb\") as f:\n",
    "#     d_t_pickle = pickle.load(f)\n",
    "# print(d_t_pickle)"
   ]
  },
  {
   "cell_type": "code",
   "execution_count": 30,
   "metadata": {},
   "outputs": [],
   "source": [
    "#NEED EXCEL SHEET IN THE SAME  FOLDER\n",
    "\n",
    "def excel(exit):\n",
    "    immi=0\n",
    "    gun=0\n",
    "    abort=0\n",
    "    andd=0\n",
    "    edu=0\n",
    "    for e in exit:\n",
    "        immi=6-e['i1']\n",
    "        immi+=6-e['i2']\n",
    "        immi+=6-e['i3']\n",
    "        immi+=6-e['i4']\n",
    "        gun=e['g1']\n",
    "        gun+=6-e['g2']\n",
    "        gun+=6-e['g3']\n",
    "        gun+=e['g4']\n",
    "        abort=6-e['ab1']\n",
    "        abort+=6-e['ab2']\n",
    "        abort+=e['ab3']\n",
    "        abort+=e['ab4']\n",
    "        andd=6-e['an1']\n",
    "        andd+=6-e['an2']\n",
    "        andd+=e['an3']\n",
    "        andd+=e['an4']\n",
    "        edu=e['e1']\n",
    "        edu+=e['e2']\n",
    "        edu+=6-e['e3']\n",
    "        edu+=e['e4']\n",
    "        exit_lean={\"name\":e['name'],\"immigration\":immi/4, \"shooting\": gun/4, \"abortion\": abort/4, \"android\": andd/4,\"education\": edu/4}\n",
    "    return exit_lean"
   ]
  },
  {
   "cell_type": "code",
   "execution_count": 31,
   "metadata": {},
   "outputs": [],
   "source": [
    "def record(user_lean, observed_lean):\n",
    "    recorded_metric={'name':user_lean['name']}\n",
    "    for key in observed_lean.keys():\n",
    "        if key != 'name':\n",
    "            recorded_metric[key]=user_lean[key]-observed_lean[key]\n",
    "    print(recorded_metric)\n",
    "    return recorded_metric"
   ]
  },
  {
   "cell_type": "code",
   "execution_count": 32,
   "metadata": {},
   "outputs": [],
   "source": [
    "def gen_metrics(d_t_pickle,exit_leann):\n",
    "    for x in d_t_pickle:\n",
    "        metric1=record(x[0],x[1])\n",
    "        metric2=record(x[0],exit_leann[x[0]['name'][0]])#SAVE THE NAME AS A  STRING\n",
    "        metrics={'name':x[0]['name'],'recorded metric':metric1,'reported metric':metric2}\n",
    "    print(metrics)    "
   ]
  },
  {
   "cell_type": "code",
   "execution_count": 33,
   "metadata": {},
   "outputs": [],
   "source": [
    "def main():\n",
    "    import pandas as pd\n",
    "    ReadExcel = pd.read_excel ('exit.xlsx')\n",
    "    df = ReadExcel\n",
    "    df.columns = ['timestamp', 'email', 'name', 'age', 'gender', 'i1', 'e1', 'an1', 'ab1', 'i2','g1','ab2','an2','i3','an3','g2','e2','blah','ab3','an4','g3','e3','ab4','i4','e4','g4','e5']\n",
    "    exit=df.to_dict('records')\n",
    "    print(exit)\n",
    "    \n",
    "    import pickle\n",
    "    with open(\"dict_tup.pickle\",\"rb\") as f:\n",
    "        d_t_pickle = [pickle.load(f)]\n",
    "    print(d_t_pickle)\n",
    "    \n",
    "    exit_leann=excel(exit)\n",
    "    gen_metrics(d_t_pickle,exit_leann)"
   ]
  },
  {
   "cell_type": "code",
   "execution_count": 34,
   "metadata": {},
   "outputs": [
    {
     "name": "stdout",
     "output_type": "stream",
     "text": [
      "[{'timestamp': Timestamp('2018-12-03 15:03:46.362000'), 'email': 'viral.sp@somaiya.edu', 'name': 'Viral Shrikant Pasad', 'age': 22, 'gender': 'Male', 'i1': 4, 'e1': 4, 'an1': 5, 'ab1': 5, 'i2': 4, 'g1': 5, 'ab2': 4, 'an2': 5, 'i3': 5, 'an3': 4, 'g2': 5, 'e2': 4, 'blah': nan, 'ab3': 4, 'an4': 5, 'g3': 4, 'e3': 5, 'ab4': 4, 'i4': 5, 'e4': 4, 'g4': 4, 'e5': 5}]\n",
      "[({'name': ['viraaap'], 'immigration': 2.0, 'shooting': 2.75, 'abortion': 3.0, 'android': 3.25, 'education': 4.5}, {'immigration': 0, 'shooting': 0, 'abortion': 3.9999999999999996, 'education': 4.0, 'android': 0, 'name': None})]\n",
      "{'name': ['viraaap'], 'immigration': 2.0, 'shooting': 2.75, 'abortion': -0.9999999999999996, 'education': 0.5, 'android': 3.25}\n"
     ]
    },
    {
     "ename": "KeyError",
     "evalue": "'viraaap'",
     "output_type": "error",
     "traceback": [
      "\u001b[0;31m---------------------------------------------------------------------------\u001b[0m",
      "\u001b[0;31mKeyError\u001b[0m                                  Traceback (most recent call last)",
      "\u001b[0;32m<ipython-input-34-263240bbee7e>\u001b[0m in \u001b[0;36m<module>\u001b[0;34m()\u001b[0m\n\u001b[0;32m----> 1\u001b[0;31m \u001b[0mmain\u001b[0m\u001b[0;34m(\u001b[0m\u001b[0;34m)\u001b[0m\u001b[0;34m\u001b[0m\u001b[0m\n\u001b[0m",
      "\u001b[0;32m<ipython-input-33-c1f6229ebf1f>\u001b[0m in \u001b[0;36mmain\u001b[0;34m()\u001b[0m\n\u001b[1;32m     13\u001b[0m \u001b[0;34m\u001b[0m\u001b[0m\n\u001b[1;32m     14\u001b[0m     \u001b[0mexit_leann\u001b[0m\u001b[0;34m=\u001b[0m\u001b[0mexcel\u001b[0m\u001b[0;34m(\u001b[0m\u001b[0mexit\u001b[0m\u001b[0;34m)\u001b[0m\u001b[0;34m\u001b[0m\u001b[0m\n\u001b[0;32m---> 15\u001b[0;31m     \u001b[0mgen_metrics\u001b[0m\u001b[0;34m(\u001b[0m\u001b[0md_t_pickle\u001b[0m\u001b[0;34m,\u001b[0m\u001b[0mexit_leann\u001b[0m\u001b[0;34m)\u001b[0m\u001b[0;34m\u001b[0m\u001b[0m\n\u001b[0m",
      "\u001b[0;32m<ipython-input-32-bb94b385338e>\u001b[0m in \u001b[0;36mgen_metrics\u001b[0;34m(d_t_pickle, exit_leann)\u001b[0m\n\u001b[1;32m      2\u001b[0m     \u001b[0;32mfor\u001b[0m \u001b[0mx\u001b[0m \u001b[0;32min\u001b[0m \u001b[0md_t_pickle\u001b[0m\u001b[0;34m:\u001b[0m\u001b[0;34m\u001b[0m\u001b[0m\n\u001b[1;32m      3\u001b[0m         \u001b[0mmetric1\u001b[0m\u001b[0;34m=\u001b[0m\u001b[0mrecord\u001b[0m\u001b[0;34m(\u001b[0m\u001b[0mx\u001b[0m\u001b[0;34m[\u001b[0m\u001b[0;36m0\u001b[0m\u001b[0;34m]\u001b[0m\u001b[0;34m,\u001b[0m\u001b[0mx\u001b[0m\u001b[0;34m[\u001b[0m\u001b[0;36m1\u001b[0m\u001b[0;34m]\u001b[0m\u001b[0;34m)\u001b[0m\u001b[0;34m\u001b[0m\u001b[0m\n\u001b[0;32m----> 4\u001b[0;31m         \u001b[0mmetric2\u001b[0m\u001b[0;34m=\u001b[0m\u001b[0mrecord\u001b[0m\u001b[0;34m(\u001b[0m\u001b[0mx\u001b[0m\u001b[0;34m[\u001b[0m\u001b[0;36m0\u001b[0m\u001b[0;34m]\u001b[0m\u001b[0;34m,\u001b[0m\u001b[0mexit_leann\u001b[0m\u001b[0;34m[\u001b[0m\u001b[0mx\u001b[0m\u001b[0;34m[\u001b[0m\u001b[0;36m0\u001b[0m\u001b[0;34m]\u001b[0m\u001b[0;34m[\u001b[0m\u001b[0;34m'name'\u001b[0m\u001b[0;34m]\u001b[0m\u001b[0;34m[\u001b[0m\u001b[0;36m0\u001b[0m\u001b[0;34m]\u001b[0m\u001b[0;34m]\u001b[0m\u001b[0;34m)\u001b[0m\u001b[0;34m\u001b[0m\u001b[0m\n\u001b[0m\u001b[1;32m      5\u001b[0m         \u001b[0mmetrics\u001b[0m\u001b[0;34m=\u001b[0m\u001b[0;34m{\u001b[0m\u001b[0;34m'name'\u001b[0m\u001b[0;34m:\u001b[0m\u001b[0mx\u001b[0m\u001b[0;34m[\u001b[0m\u001b[0;36m0\u001b[0m\u001b[0;34m]\u001b[0m\u001b[0;34m[\u001b[0m\u001b[0;34m'name'\u001b[0m\u001b[0;34m]\u001b[0m\u001b[0;34m,\u001b[0m\u001b[0;34m'recorded metric'\u001b[0m\u001b[0;34m:\u001b[0m\u001b[0mmetric1\u001b[0m\u001b[0;34m,\u001b[0m\u001b[0;34m'reported metric'\u001b[0m\u001b[0;34m:\u001b[0m\u001b[0mmetric2\u001b[0m\u001b[0;34m}\u001b[0m\u001b[0;34m\u001b[0m\u001b[0m\n\u001b[1;32m      6\u001b[0m     \u001b[0mprint\u001b[0m\u001b[0;34m(\u001b[0m\u001b[0mmetrics\u001b[0m\u001b[0;34m)\u001b[0m\u001b[0;34m\u001b[0m\u001b[0m\n",
      "\u001b[0;31mKeyError\u001b[0m: 'viraaap'"
     ]
    }
   ],
   "source": [
    "main()"
   ]
  }
 ],
 "metadata": {
  "kernelspec": {
   "display_name": "Python 3",
   "language": "python",
   "name": "python3"
  },
  "language_info": {
   "codemirror_mode": {
    "name": "ipython",
    "version": 3
   },
   "file_extension": ".py",
   "mimetype": "text/x-python",
   "name": "python",
   "nbconvert_exporter": "python",
   "pygments_lexer": "ipython3",
   "version": "3.7.0"
  }
 },
 "nbformat": 4,
 "nbformat_minor": 2
}
