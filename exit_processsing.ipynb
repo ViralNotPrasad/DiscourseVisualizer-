{
 "cells": [
  {
   "cell_type": "code",
   "execution_count": null,
   "metadata": {},
   "outputs": [],
   "source": [
    "user_lean={'name':'dhruvaaas','immigration': 2.25, 'shooting': 2.5, 'abortion': 4.0, 'android': 2.25, 'education': 3.5}\n",
    "observed_lean={:'immigration': 4.389004149377593, 'shooting': 0, 'abortion': 0, 'education': 3.172529313232831, 'android': 0}"
   ]
  },
  {
   "cell_type": "code",
   "execution_count": 51,
   "metadata": {
    "scrolled": false
   },
   "outputs": [
    {
     "name": "stdout",
     "output_type": "stream",
     "text": [
      "{'name': 'dhruvaaas', 'immigration': -2.139004149377593, 'shooting': 2.5, 'abortion': 4.0, 'education': 0.32747068676716884, 'android': 2.25}\n"
     ]
    }
   ],
   "source": [
    "recorded_metric={'name':user_lean['name']}\n",
    "for key in observed_lean.keys():\n",
    "        recorded_metric[key]=user_lean[key]-observed_lean[key]\n",
    "print(recorded_metric)"
   ]
  },
  {
   "cell_type": "code",
   "execution_count": null,
   "metadata": {},
   "outputs": [],
   "source": []
  },
  {
   "cell_type": "code",
   "execution_count": null,
   "metadata": {},
   "outputs": [],
   "source": []
  },
  {
   "cell_type": "code",
   "execution_count": 56,
   "metadata": {},
   "outputs": [],
   "source": [
    "import pandas as pd\n",
    "ReadExcel = pd.read_excel ('exit.xlsx')\n",
    "df = ReadExcel\n",
    "df.columns = ['timestamp', 'email', 'name', 'age', 'gender', 'i1', 'e1', 'an1', 'ab1', 'i2','g1','ab2','an2','i3','an3','g2','e2','blah','ab3','an4','g3','e3','ab4','i4','e4','g4','e5']"
   ]
  },
  {
   "cell_type": "code",
   "execution_count": 57,
   "metadata": {
    "scrolled": false
   },
   "outputs": [
    {
     "name": "stdout",
     "output_type": "stream",
     "text": [
      "[{'timestamp': Timestamp('2018-12-03 15:03:46.362000'), 'email': 'viral.sp@somaiya.edu', 'name': 'Viral Shrikant Pasad', 'age': 22, 'gender': 'Male', 'i1': 4, 'e1': 4, 'an1': 5, 'ab1': 5, 'i2': 4, 'g1': 5, 'ab2': 4, 'an2': 5, 'i3': 5, 'an3': 4, 'g2': 5, 'e2': 4, 'blah': nan, 'ab3': 4, 'an4': 5, 'g3': 4, 'e3': 5, 'ab4': 4, 'i4': 5, 'e4': 4, 'g4': 4, 'e5': 5}]\n"
     ]
    }
   ],
   "source": [
    "exit=df.to_dict('records')\n",
    "print(exit)"
   ]
  },
  {
   "cell_type": "code",
   "execution_count": 58,
   "metadata": {},
   "outputs": [
    {
     "name": "stdout",
     "output_type": "stream",
     "text": [
      "Viral Shrikant Pasad\n"
     ]
    }
   ],
   "source": [
    "for e in exit:\n",
    "    print(e['name'])"
   ]
  },
  {
   "cell_type": "code",
   "execution_count": 60,
   "metadata": {},
   "outputs": [
    {
     "ename": "SyntaxError",
     "evalue": "invalid syntax (<ipython-input-60-72f0dab6bdfe>, line 27)",
     "traceback": [
      "\u001b[0;36m  File \u001b[0;32m\"<ipython-input-60-72f0dab6bdfe>\"\u001b[0;36m, line \u001b[0;32m27\u001b[0m\n\u001b[0;31m    exit_lean={\"name\"=e['name'],\"immigration\":immi/4, \"shooting\": gun/4, \"abortion\": float(abort)/4, \"android\": andd/4,\"education\": edu/4}\u001b[0m\n\u001b[0m                     ^\u001b[0m\n\u001b[0;31mSyntaxError\u001b[0m\u001b[0;31m:\u001b[0m invalid syntax\n"
     ],
     "output_type": "error"
    }
   ],
   "source": [
    "immi=0\n",
    "gun=0\n",
    "abort=0\n",
    "andd=0\n",
    "edu=0\n",
    "for e in exit:\n",
    "    immi=6-e['i1']\n",
    "    immi+=6-e['i2']\n",
    "    immi+=6-e['i3']\n",
    "    immi+=6-e['i4']\n",
    "    gun=e['g1']\n",
    "    gun+=6-e['g2']\n",
    "    gun+=6-e['g3']\n",
    "    gun+=e['g4']\n",
    "    abort=6-['ab1']\n",
    "    abort+=6-['ab2']\n",
    "    abort+=['ab3']\n",
    "    abort+=['ab4']\n",
    "    andd=6-['an1']\n",
    "    andd+=6-['an2']\n",
    "    andd+=['an3']\n",
    "    andd+=['an4']\n",
    "    edu=['edu1']\n",
    "    edu+=['edu2']\n",
    "    edu+=6-['edu3']\n",
    "    edu+=['edu4']\n",
    "    exit_lean={\"name\":e['name'],\"immigration\":immi/4, \"shooting\": gun/4, \"abortion\": abort/4, \"android\": andd/4,\"education\": edu/4}"
   ]
  }
 ],
 "metadata": {
  "kernelspec": {
   "display_name": "Python 3",
   "language": "python",
   "name": "python3"
  },
  "language_info": {
   "codemirror_mode": {
    "name": "ipython",
    "version": 3
   },
   "file_extension": ".py",
   "mimetype": "text/x-python",
   "name": "python",
   "nbconvert_exporter": "python",
   "pygments_lexer": "ipython3",
   "version": "3.7.0"
  }
 },
 "nbformat": 4,
 "nbformat_minor": 2
}
